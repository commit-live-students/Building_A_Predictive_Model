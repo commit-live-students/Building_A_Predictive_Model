{
 "cells": [
  {
   "cell_type": "markdown",
   "metadata": {},
   "source": [
    " <h1 align=center> Building a Predictive Model- A Generic Approach </h1> \n",
    "\n",
    "\n",
    "## Content\n",
    "\n",
    "- How to participate in Hackathons.\n",
    "- Approach used\n",
    "- A standard template\n",
    "-----"
   ]
  },
  {
   "attachments": {},
   "cell_type": "markdown",
   "metadata": {},
   "source": [
    "![stratgey.png](../images/stratgey.png)"
   ]
  },
  {
   "cell_type": "markdown",
   "metadata": {},
   "source": [
    "A Standard approach to building a prdictive model would involve the following steps. This is the essence of how you win competitions and hackathons or at least set bench mark for yourself and improve from there. Lets walk through the steps. \n",
    "\n",
    "- Descriptive analysis on the Data – 50% time\n",
    "- Data treatment (Missing value and outlier fixing) – 40% time\n",
    "- Data Modelling – 4% time\n",
    "- Estimation of performance – 6% time\n",
    "\n",
    "Most of these techniques are discussed in the previous sessions "
   ]
  },
  {
   "attachments": {},
   "cell_type": "markdown",
   "metadata": {},
   "source": [
    "![you_know_it.jpg](../images/you_know_it.jpg)"
   ]
  },
  {
   "cell_type": "markdown",
   "metadata": {},
   "source": [
    "\n",
    "### Problem Statement\n",
    "\"Bank of Gardenia\" (BoG) has another problem for you. This time they want you to take care of customer retention for their product; savings accounts. This is a problem from [Analytics Vidhya](https://datahack.analyticsvidhya.com/contest/data-science-hackathon-churn-prediction/)\n",
    " \n",
    "## The problem - Churn Prediction\n",
    "BoG wants you to identify customers likely to churn balances in the next quarter by atleast 50% vis-a-vis current quarter. You have the customers information such as age, gender, demographics along with their assets, liabilities and transactions with the bank. Your task as a data scientist would be to predict the propensity to churn for each customer.\n",
    " \n",
    "## Data provided\n",
    "BoG has given a partial data (5 lakh customers) of their customers, along with their details like age, gender and demographics with their various relationships along all the products. We have three lakh customers in train and two lakh customers in test. You are expected to estimate the probability for each customer\n",
    "\n",
    "______\n",
    "\n",
    "Now lets walk through a simple template which can be used to set benchmark for yourself. We will use the churn prediction dataset of churn prediction [Analytics Vidhya](https://datahack.analyticsvidhya.com/contest/data-science-hackathon-churn-prediction/). A General template will have the following format.\n",
    "\n",
    "- Check which features to use In this case we are asked to drop the customer ID from the features.\n",
    "- Cleaning data\n",
    "  - Imputing missing values in numerical Data\n",
    "  - Imputing missing values in Categorical Data\n",
    "- Encode Categorical Data\n",
    "- Build Model typically used are GBM / Random Forest techniques, depending on the business problem. These two techniques are extremely effective to create a benchmark solution\n",
    "\n",
    "------\n",
    "\n",
    "\n",
    "Most of the masters on Kaggle and the best scientists on our hackathons have these codes ready and fire their first submission before making a detailed analysis. Once they have some estimate of benchmark, they start improvising further."
   ]
  },
  {
   "cell_type": "code",
   "execution_count": 1,
   "metadata": {
    "collapsed": true
   },
   "outputs": [],
   "source": [
    "\n",
    "\n",
    "import numpy as np\n",
    "import pandas as pd\n",
    "from pandas import Series, DataFrame\n",
    "import matplotlib.pyplot as plt\n",
    "from sklearn.preprocessing import Imputer, LabelEncoder\n",
    "from sklearn.model_selection import train_test_split\n",
    "from sklearn.ensemble import RandomForestClassifier, GradientBoostingClassifier\n",
    "from sklearn.metrics import confusion_matrix, classification_report,roc_auc_score,roc_curve\n",
    "import seaborn as sns\n",
    "sns.set_style('dark')\n",
    "%matplotlib inline"
   ]
  },
  {
   "cell_type": "code",
   "execution_count": 2,
   "metadata": {},
   "outputs": [
    {
     "name": "stderr",
     "output_type": "stream",
     "text": [
      "/Users/abhisheksubramanian/anaconda3/lib/python3.6/site-packages/IPython/core/interactiveshell.py:2698: DtypeWarning: Columns (294,299,300,302,307,313,315,365,367,369) have mixed types. Specify dtype option on import or set low_memory=False.\n",
      "  interactivity=interactivity, compiler=compiler, result=result)\n"
     ]
    }
   ],
   "source": [
    "train = pd.read_csv('../data/train.csv')"
   ]
  },
  {
   "cell_type": "code",
   "execution_count": 3,
   "metadata": {
    "collapsed": true
   },
   "outputs": [],
   "source": [
    "train.drop('UCIC_ID',axis=1,inplace=True)\n",
    "\n"
   ]
  },
  {
   "cell_type": "code",
   "execution_count": 4,
   "metadata": {
    "collapsed": true
   },
   "outputs": [],
   "source": [
    "X = train.drop('Responders',axis=1)\n",
    "Y = train['Responders']"
   ]
  },
  {
   "cell_type": "code",
   "execution_count": 5,
   "metadata": {
    "collapsed": true
   },
   "outputs": [],
   "source": [
    "data_numeric = set(X._get_numeric_data())\n",
    "data_categorical = list(set(X.columns)-data_numeric)"
   ]
  },
  {
   "cell_type": "code",
   "execution_count": 6,
   "metadata": {},
   "outputs": [
    {
     "data": {
      "text/plain": [
       "IB_D_prev6                           0\n",
       "IB_C_prev1                           0\n",
       "COUNT_POS_D_prev1                    0\n",
       "custinit_DR_cnt_prev3           116621\n",
       "ATM_amt_prev5                   229527\n",
       "BRANCH_D_prev1                       0\n",
       "custinit_CR_amt_prev3           210311\n",
       "ATM_C_prev6                          0\n",
       "BL_PREM_CLOSED_PREVQ1           299856\n",
       "COUNT_POS_C_prev5                    0\n",
       "C_prev4                              0\n",
       "TWL_Closed_PrevQ1               299879\n",
       "BRN_CASH_Dep_Amt_prev1          266388\n",
       "I_CNR_PrevQ2                         0\n",
       "BRANCH_D_prev3                       0\n",
       "count_No_of_MF_PrevQ1           272500\n",
       "count_C_prev2                        0\n",
       "NO_OF_Accs                           0\n",
       "I_NRV_PrevQ2                         0\n",
       "ATM_CW_Cnt_prev6                238584\n",
       "custinit_CR_amt_prev5           210710\n",
       "CV_Closed_PrevQ1                299924\n",
       "MB_D_prev2                           0\n",
       "COUNT_BRANCH_D_prev1                 0\n",
       "CR_AMB_Prev1                         0\n",
       "COUNT_POS_C_prev6                    0\n",
       "BRN_CW_Amt_prev6                299704\n",
       "AL_Closed_PrevQ1                298930\n",
       "EDU_DATE                        299989\n",
       "Percent_Change_in_FT_Bank       288198\n",
       "                                 ...  \n",
       "D_prev1                              0\n",
       "CNR_prev4                            0\n",
       "COUNT_ATM_D_prev4                    0\n",
       "COUNT_IB_C_prev6                     0\n",
       "Recency_of_DR_TXN                23252\n",
       "COUNT_BRANCH_D_prev6                 0\n",
       "COUNT_ATM_C_prev2                    0\n",
       "BRN_CW_Amt_prev3                299643\n",
       "ATM_D_prev4                          0\n",
       "BAL_prev6                            0\n",
       "TL_DATE                         299955\n",
       "BRANCH_C_prev3                       0\n",
       "Query_Logged_PrevQ1             297114\n",
       "CC_CLOSED_PREVQ1                299404\n",
       "MB_C_prev2                           0\n",
       "COUNT_ATM_D_prev3                    0\n",
       "IB_D_prev2                           0\n",
       "FD_PREM_CLOSED_PREVQ1           290173\n",
       "Percent_Change_in_FT_outside    154370\n",
       "COUNT_ATM_C_prev5                    0\n",
       "COUNT_MB_D_prev6                     0\n",
       "COUNT_IB_C_prev2                     0\n",
       "EDU_PREM_CLOSED_PREVQ1          300000\n",
       "AL_DATE                         285215\n",
       "MB_D_prev1                           0\n",
       "custinit_DR_cnt_prev5           119421\n",
       "COUNT_MB_C_prev2                     0\n",
       "POS_D_prev5                          0\n",
       "custinit_CR_cnt_prev4           214102\n",
       "COUNT_BRANCH_D_prev4                 0\n",
       "Length: 337, dtype: int64"
      ]
     },
     "execution_count": 6,
     "metadata": {},
     "output_type": "execute_result"
    }
   ],
   "source": [
    "X[list(data_numeric)].isnull().sum()"
   ]
  },
  {
   "cell_type": "code",
   "execution_count": 7,
   "metadata": {
    "collapsed": true
   },
   "outputs": [],
   "source": [
    "#X['Recency_of_CR_TXN'] = X['Recency_of_CR_TXN'].fillna(X['Recency_of_CR_TXN'].mean())"
   ]
  },
  {
   "cell_type": "markdown",
   "metadata": {},
   "source": [
    "Pandas has a method [fillna](https://pandas.pydata.org/pandas-docs/stable/generated/pandas.DataFrame.fillna.html) which is extremely useful in imputing missing values. This method is used below"
   ]
  },
  {
   "cell_type": "code",
   "execution_count": 8,
   "metadata": {
    "collapsed": true
   },
   "outputs": [],
   "source": [
    "X[list(data_numeric)]=X[list(data_numeric)].fillna(X[list(data_numeric)].mean())\n",
    "X.fillna(-9999,inplace=True)"
   ]
  },
  {
   "cell_type": "code",
   "execution_count": 9,
   "metadata": {
    "collapsed": true
   },
   "outputs": [],
   "source": [
    "for i in data_categorical:\n",
    "    lab = LabelEncoder()\n",
    "    X[i] = lab.fit_transform(X[i].astype('str'))"
   ]
  },
  {
   "cell_type": "code",
   "execution_count": 10,
   "metadata": {
    "collapsed": true
   },
   "outputs": [],
   "source": [
    "X_train,X_valid,Y_train,Y_valid = train_test_split(X,Y,test_size=0.2,random_state=99)"
   ]
  },
  {
   "cell_type": "code",
   "execution_count": 11,
   "metadata": {},
   "outputs": [
    {
     "name": "stderr",
     "output_type": "stream",
     "text": [
      "[Parallel(n_jobs=-1)]: Done  42 tasks      | elapsed:  1.3min\n",
      "[Parallel(n_jobs=-1)]: Done 192 tasks      | elapsed:  5.2min\n",
      "[Parallel(n_jobs=-1)]: Done 442 tasks      | elapsed: 13.5min\n",
      "[Parallel(n_jobs=-1)]: Done 792 tasks      | elapsed: 23.1min\n",
      "[Parallel(n_jobs=-1)]: Done 1000 out of 1000 | elapsed: 28.4min finished\n"
     ]
    },
    {
     "data": {
      "text/plain": [
       "RandomForestClassifier(bootstrap=True, class_weight=None, criterion='gini',\n",
       "            max_depth=None, max_features='auto', max_leaf_nodes=None,\n",
       "            min_impurity_decrease=0.0, min_impurity_split=None,\n",
       "            min_samples_leaf=1, min_samples_split=2,\n",
       "            min_weight_fraction_leaf=0.0, n_estimators=1000, n_jobs=-1,\n",
       "            oob_score=False, random_state=None, verbose=True,\n",
       "            warm_start=False)"
      ]
     },
     "execution_count": 11,
     "metadata": {},
     "output_type": "execute_result"
    }
   ],
   "source": [
    "rf = RandomForestClassifier(n_estimators=1000,verbose=True,n_jobs=-1)\n",
    "rf.fit(X_train,Y_train)"
   ]
  },
  {
   "cell_type": "code",
   "execution_count": 12,
   "metadata": {},
   "outputs": [
    {
     "name": "stderr",
     "output_type": "stream",
     "text": [
      "[Parallel(n_jobs=4)]: Done  42 tasks      | elapsed:    0.7s\n",
      "[Parallel(n_jobs=4)]: Done 192 tasks      | elapsed:    3.2s\n",
      "[Parallel(n_jobs=4)]: Done 442 tasks      | elapsed:    7.7s\n",
      "[Parallel(n_jobs=4)]: Done 792 tasks      | elapsed:   13.9s\n",
      "[Parallel(n_jobs=4)]: Done 1000 out of 1000 | elapsed:   17.9s finished\n"
     ]
    }
   ],
   "source": [
    "con = confusion_matrix(Y_valid,rf.predict(X_valid))"
   ]
  },
  {
   "cell_type": "code",
   "execution_count": 13,
   "metadata": {},
   "outputs": [
    {
     "data": {
      "text/plain": [
       "<matplotlib.axes._subplots.AxesSubplot at 0x1a12139668>"
      ]
     },
     "execution_count": 13,
     "metadata": {},
     "output_type": "execute_result"
    },
    {
     "data": {
      "image/png": "[encoded data removed]",
      "text/plain": [
       "<matplotlib.figure.Figure at 0x1a121284e0>"
      ]
     },
     "metadata": {},
     "output_type": "display_data"
    }
   ],
   "source": [
    "sns.heatmap(con,annot=True,annot_kws={\"size\": 13})"
   ]
  },
  {
   "cell_type": "code",
   "execution_count": 14,
   "metadata": {},
   "outputs": [
    {
     "name": "stderr",
     "output_type": "stream",
     "text": [
      "[Parallel(n_jobs=4)]: Done  42 tasks      | elapsed:    0.8s\n",
      "[Parallel(n_jobs=4)]: Done 192 tasks      | elapsed:    3.6s\n",
      "[Parallel(n_jobs=4)]: Done 442 tasks      | elapsed:    8.5s\n",
      "[Parallel(n_jobs=4)]: Done 792 tasks      | elapsed:   13.8s\n"
     ]
    },
    {
     "name": "stdout",
     "output_type": "stream",
     "text": [
      "             precision    recall  f1-score   support\n",
      "\n",
      "          0       0.89      0.97      0.93     49553\n",
      "          1       0.76      0.42      0.54     10447\n",
      "\n",
      "avg / total       0.87      0.88      0.86     60000\n",
      "\n"
     ]
    },
    {
     "name": "stderr",
     "output_type": "stream",
     "text": [
      "[Parallel(n_jobs=4)]: Done 1000 out of 1000 | elapsed:   17.0s finished\n"
     ]
    }
   ],
   "source": [
    "print(classification_report(Y_valid,rf.predict(X_valid)))"
   ]
  },
  {
   "cell_type": "code",
   "execution_count": 16,
   "metadata": {},
   "outputs": [
    {
     "name": "stderr",
     "output_type": "stream",
     "text": [
      "[Parallel(n_jobs=4)]: Done  42 tasks      | elapsed:    0.7s\n",
      "[Parallel(n_jobs=4)]: Done 192 tasks      | elapsed:    4.0s\n",
      "[Parallel(n_jobs=4)]: Done 442 tasks      | elapsed:   10.0s\n",
      "[Parallel(n_jobs=4)]: Done 792 tasks      | elapsed:   18.3s\n",
      "[Parallel(n_jobs=4)]: Done 1000 out of 1000 | elapsed:   22.7s finished\n"
     ]
    },
    {
     "data": {
      "text/plain": [
       "Text(0,0.5,'TPR')"
      ]
     },
     "execution_count": 16,
     "metadata": {},
     "output_type": "execute_result"
    },
    {
     "data": {
      "image/png": "[encoded data removed]",
      "text/plain": [
       "<matplotlib.figure.Figure at 0x1a108ebc18>"
      ]
     },
     "metadata": {},
     "output_type": "display_data"
    }
   ],
   "source": [
    "y_pred  = rf.predict_proba(X_valid)[:,1]\n",
    "fpr,tpr,_ = roc_curve(Y_valid,y_pred)\n",
    "\n",
    "plt.figure(figsize=(7,7))\n",
    "plt.plot(fpr,tpr)\n",
    "plt.plot((0,1),(0,1))\n",
    "plt.xlabel('FPR',fontsize=15)\n",
    "plt.ylabel('TPR',fontsize=15)"
   ]
  },
  {
   "cell_type": "markdown",
   "metadata": {
    "collapsed": true
   },
   "source": [
    "## Going further\n",
    "\n",
    "Once the benchmark is established measures can be taken to improve the performance of the model. What can be done.\n",
    "\n",
    "- Data cleaning for test data set to make predictions.\n",
    "- Hyper Parameter Tuning.\n",
    "- Going back to Feature Engineering\n",
    "- Check and handle class imbalance if it exists.\n",
    "- Testing Multiple models. \n",
    "- Submit"
   ]
  }
 ],
 "metadata": {
  "kernelspec": {
   "display_name": "Python 3",
   "language": "python",
   "name": "python3"
  },
  "language_info": {
   "codemirror_mode": {
    "name": "ipython",
    "version": 3
   },
   "file_extension": ".py",
   "mimetype": "text/x-python",
   "name": "python",
   "nbconvert_exporter": "python",
   "pygments_lexer": "ipython3",
   "version": "3.6.2"
  }
 },
 "nbformat": 4,
 "nbformat_minor": 2
}
